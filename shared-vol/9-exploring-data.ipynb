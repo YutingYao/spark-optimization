{
 "cells": [
  {
   "cell_type": "markdown",
   "metadata": {},
   "source": [
    "# Exploring the data\n",
    "![footer_logo_new](images/logo_new.png)"
   ]
  },
  {
   "cell_type": "code",
   "execution_count": 1,
   "metadata": {},
   "outputs": [],
   "source": [
    "from pyspark import StorageLevel\n",
    "from pyspark.sql import functions as F, SQLContext, SparkSession, Window\n",
    "from pyspark.sql.types import*\n",
    "from random import randint\n",
    "import time\n",
    "import datetime\n",
    "\n",
    "spark = (SparkSession.builder\n",
    "         .appName(\"explore-data\")\n",
    "         .master(\"spark://spark-master:7077\")\n",
    "         .config(\"spark.eventLog.enabled\", \"true\")\n",
    "         .config(\"spark.eventLog.dir\", \"/opt/workspace/history\")\n",
    "         .config(\"spark.speculation\", \"true\")\n",
    "         .enableHiveSupport()\n",
    "         .getOrCreate()\n",
    "         )"
   ]
  },
  {
   "cell_type": "markdown",
   "metadata": {},
   "source": [
    "## Meteo observations \n",
    "- Parquet format\n",
    "- partitioned by year (yyyy)"
   ]
  },
  {
   "cell_type": "code",
   "execution_count": 2,
   "metadata": {},
   "outputs": [
    {
     "name": "stdout",
     "output_type": "stream",
     "text": [
      "root\n",
      " |-- station_identifier: string (nullable = true)\n",
      " |-- date: date (nullable = true)\n",
      " |-- observation_type: string (nullable = true)\n",
      " |-- observation_value: integer (nullable = true)\n",
      " |-- MFLAG1: string (nullable = true)\n",
      " |-- QFLAG1: string (nullable = true)\n",
      " |-- SFLAG1: string (nullable = true)\n",
      " |-- time: string (nullable = true)\n",
      " |-- yyyy: integer (nullable = true)\n",
      "\n",
      "+------------------+----------+----------------+-----------------+------+------+------+----+----+\n",
      "|station_identifier|      date|observation_type|observation_value|MFLAG1|QFLAG1|SFLAG1|time|yyyy|\n",
      "+------------------+----------+----------------+-----------------+------+------+------+----+----+\n",
      "|       AE000041196|2001-01-01|            TMAX|              238|  null|  null|     I|null|2001|\n",
      "|       USC00127255|2001-11-07|            SNOW|                0|     P|  null|     0|null|2001|\n",
      "|       AE000041196|2001-01-01|            TMIN|              121|  null|  null|     I|null|2001|\n",
      "|       USC00127255|2001-11-07|            SNWD|                0|     P|  null|     0|null|2001|\n",
      "|       AE000041196|2001-01-01|            TAVG|              181|     H|  null|     S|null|2001|\n",
      "|       USC00127267|2001-11-07|            PRCP|                0|  null|  null|     0|0700|2001|\n",
      "|       AEM00041194|2001-01-01|            TMIN|              137|  null|  null|     S|null|2001|\n",
      "|       USC00127267|2001-11-07|            SNOW|                0|     P|  null|     0|null|2001|\n",
      "|       AEM00041194|2001-01-01|            TAVG|              188|     H|  null|     S|null|2001|\n",
      "|       USC00127267|2001-11-07|            SNWD|                0|     P|  null|     0|null|2001|\n",
      "+------------------+----------+----------------+-----------------+------+------+------+----+----+\n",
      "only showing top 10 rows\n",
      "\n"
     ]
    }
   ],
   "source": [
    "meteo_data_file = \"data/meteo-data/parquet\"\n",
    "meteo_df = spark.read.parquet(meteo_data_file)\n",
    "meteo_df.printSchema()\n",
    "meteo_df.show(10, truncate=100)\n",
    "# be careful with `describe` operation on the large datasets, as it triggers statistical analysis job\n",
    "# meteo_df.describe().show()"
   ]
  },
  {
   "cell_type": "markdown",
   "metadata": {},
   "source": [
    "### Stations dictionary"
   ]
  },
  {
   "cell_type": "code",
   "execution_count": 3,
   "metadata": {},
   "outputs": [
    {
     "name": "stdout",
     "output_type": "stream",
     "text": [
      "root\n",
      " |-- station_identifier: string (nullable = true)\n",
      " |-- latitude: float (nullable = true)\n",
      " |-- longitude: float (nullable = true)\n",
      " |-- height_above_sea_level: float (nullable = true)\n",
      " |-- station_name: string (nullable = true)\n",
      "\n",
      "+------------------+--------+---------+----------------------+----------------------+\n",
      "|station_identifier|latitude|longitude|height_above_sea_level|          station_name|\n",
      "+------------------+--------+---------+----------------------+----------------------+\n",
      "|       ACW00011604| 17.1167|  -61.783|                  10.1| ST JOHNS COOLIDGE FLD|\n",
      "|       ACW00011647| 17.1333|  -61.783|                  19.2|              ST JOHNS|\n",
      "|       AE000041196|  25.333|   55.517|                  34.0|   SHARJAH INTER. AIRP|\n",
      "|       AEM00041194|  25.255|   55.364|                  10.4|            DUBAI INTL|\n",
      "|       AEM00041217|  24.433|   54.651|                  26.8|        ABU DHABI INTL|\n",
      "|       AEM00041218|  24.262|   55.609|                 264.9|           AL AIN INTL|\n",
      "|       AF000040930|  35.317|   69.017|                3366.0|          NORTH-SALANG|\n",
      "|       AFM00040938|   34.21|   62.228|                 977.2|                 HERAT|\n",
      "|       AFM00040948|  34.566|   69.212|                1791.3|            KABUL INTL|\n",
      "|       AFM00040990|    31.5|    65.85|                1010.0|      KANDAHAR AIRPORT|\n",
      "+------------------+--------+---------+----------------------+----------------------+\n",
      "only showing top 10 rows\n",
      "\n",
      "+-------+------------------+------------------+------------------+----------------------+-------------------+\n",
      "|summary|station_identifier|          latitude|         longitude|height_above_sea_level|       station_name|\n",
      "+-------+------------------+------------------+------------------+----------------------+-------------------+\n",
      "|  count|            230163|            230163|            230163|                230163|             230163|\n",
      "|   mean|              null|24.527371759031915|-39.82897694659637|     447.7559445610561|                NaN|\n",
      "| stddev|              null|29.277597925439004| 92.08083729637394|     667.2572690174912|                NaN|\n",
      "|    min|       ACW00011604|             -90.0|          -179.983|                -999.9| \"HOME\" MONOGORILBY|\n",
      "|    max|       ZI000067991|             83.65|            179.32|                5033.0|             Zirkel|\n",
      "+-------+------------------+------------------+------------------+----------------------+-------------------+\n",
      "\n"
     ]
    }
   ],
   "source": [
    "stations_meta_file = \"data/meteo-data/stations.csv\"\n",
    "\n",
    "schema = StructType([\n",
    "    StructField('station_identifier', StringType(), True),\n",
    "    StructField('latitude', FloatType(), True),\n",
    "    StructField('longitude', FloatType(), True),\n",
    "    StructField('height_above_sea_level', FloatType(), True),\n",
    "    StructField('station_name', StringType(), True)\n",
    "])\n",
    "\n",
    "stations_df = (spark.read\n",
    "               .schema(schema)\n",
    "               .option(\"header\", \"false\")\n",
    "               .csv(stations_meta_file)\n",
    "              )\n",
    "\n",
    "# \n",
    "stations_df.printSchema()\n",
    "stations_df.show(10, truncate=100)\n",
    "stations_df.describe().show()"
   ]
  },
  {
   "cell_type": "markdown",
   "metadata": {},
   "source": [
    "### Observation types dictionary"
   ]
  },
  {
   "cell_type": "code",
   "execution_count": 4,
   "metadata": {},
   "outputs": [
    {
     "name": "stdout",
     "output_type": "stream",
     "text": [
      "root\n",
      " |-- observation_type: string (nullable = true)\n",
      " |-- description: string (nullable = true)\n",
      "\n",
      "+----------------+---------------------------------------------------------------------------------+\n",
      "|observation_type|                                                                      description|\n",
      "+----------------+---------------------------------------------------------------------------------+\n",
      "|            PRCP|                                                     Precipitation (tenths of mm)|\n",
      "|            SNOW|                                                                    Snowfall (mm)|\n",
      "|            SNWD|                                                                  Snow depth (mm)|\n",
      "|            TMAX|                                        Maximum temperature (tenths of degrees C)|\n",
      "|            TMIN|                                        Minimum temperature (tenths of degrees C)|\n",
      "|            ACMC| Average cloudiness midnight to midnight from 30-second ceilometer data (percent)|\n",
      "|            ACMH|       Average cloudiness midnight to midnight from manual observations (percent)|\n",
      "|            ACSC|    Average cloudiness sunrise to sunset from 30-second ceilometer data (percent)|\n",
      "|            ACSH|          Average cloudiness sunrise to sunset from manual observations (percent)|\n",
      "|            AWDR|                                           Average daily wind direction (degrees)|\n",
      "+----------------+---------------------------------------------------------------------------------+\n",
      "only showing top 10 rows\n",
      "\n",
      "+-------+----------------+--------------------------------+\n",
      "|summary|observation_type|                     description|\n",
      "+-------+----------------+--------------------------------+\n",
      "|  count|             205|                             205|\n",
      "|   mean|            null|                            null|\n",
      "| stddev|            null|                            null|\n",
      "|    min|            ACMC|      24-hour wind movement (km)|\n",
      "|    max|            WV20| Weather in the Vicinity Thunder|\n",
      "+-------+----------------+--------------------------------+\n",
      "\n"
     ]
    }
   ],
   "source": [
    "observation_type_file = \"data/meteo-data/observation_type.csv\"\n",
    "\n",
    "schema = StructType([\n",
    "    StructField('observation_type', StringType(), True),\n",
    "    StructField('description', StringType(), True)\n",
    "])\n",
    "\n",
    "observation_type_df = (spark.read\n",
    "               .schema(schema)\n",
    "               .option(\"header\", \"false\")\n",
    "               .csv(observation_type_file)\n",
    "              )\n",
    "observation_type_df.printSchema()\n",
    "observation_type_df.show(10, truncate=100)\n",
    "observation_type_df.describe().show(truncate=100)"
   ]
  },
  {
   "cell_type": "markdown",
   "metadata": {},
   "source": [
    "### Meteo flags dictionary"
   ]
  },
  {
   "cell_type": "code",
   "execution_count": 5,
   "metadata": {},
   "outputs": [
    {
     "name": "stdout",
     "output_type": "stream",
     "text": [
      "root\n",
      " |-- flag: string (nullable = true)\n",
      " |-- flag_description: string (nullable = true)\n",
      " |-- value: string (nullable = true)\n",
      " |-- value_description: string (nullable = true)\n",
      "\n",
      "+------+------------------------------------------------+-----+----------------------------------------------------------------------------------------------------+\n",
      "|  flag|                                flag_description|value|                                                                                   value_description|\n",
      "+------+------------------------------------------------+-----+----------------------------------------------------------------------------------------------------+\n",
      "|MFLAG1| measurement flag for the first day of the month| null|                                                               no measurement information applicable|\n",
      "|MFLAG1| measurement flag for the first day of the month|    B|                                                  precipitation total formed from two 12-hour totals|\n",
      "|MFLAG1| measurement flag for the first day of the month|    D|                                                precipitation total formed from four six-hour totals|\n",
      "|MFLAG1| measurement flag for the first day of the month|    H| represents highest or lowest hourly temperature (TMAX or TMIN) or the average of hourly values (...|\n",
      "|MFLAG1| measurement flag for the first day of the month|    K|                                                                                converted from knots|\n",
      "|MFLAG1| measurement flag for the first day of the month|    L|                       temperature appears to be lagged with respect to reported hour of observation|\n",
      "|MFLAG1| measurement flag for the first day of the month|    O|                                                                                converted from oktas|\n",
      "|MFLAG1| measurement flag for the first day of the month|    P|                                          identified as \"missing presumed zero\" in DSI 3200 and 3206|\n",
      "|MFLAG1| measurement flag for the first day of the month|    T|                                                                              trace of precipitation|\n",
      "|MFLAG1| measurement flag for the first day of the month|   W |                                              converted from 16-point WBAN code (for wind direction)|\n",
      "+------+------------------------------------------------+-----+----------------------------------------------------------------------------------------------------+\n",
      "only showing top 10 rows\n",
      "\n",
      "+-------+------+------------------------------------------------+------------------+------------------------------------------------------------------------------------+\n",
      "|summary|  flag|                                flag_description|             value|                                                                   value_description|\n",
      "+-------+------+------------------------------------------------+------------------+------------------------------------------------------------------------------------+\n",
      "|  count|    56|                                              56|                56|                                                                                  56|\n",
      "|   mean|  null|                                            null| 4.333333333333333|                                                                                null|\n",
      "| stddev|  null|                                            null|3.7859388972001824|                                                                                null|\n",
      "|    min|MFLAG1| measurement flag for the first day of the month|                 0| All-Russian Research Institute of Hydrometeorological Information-World Data Center|\n",
      "|    max|SFLAG1|      source flag for the first day of the month|                 z|                                                              trace of precipitation|\n",
      "+-------+------+------------------------------------------------+------------------+------------------------------------------------------------------------------------+\n",
      "\n"
     ]
    }
   ],
   "source": [
    "flag_description_file = \"data/meteo-data/flag_description.csv\"\n",
    "\n",
    "schema = StructType([\n",
    "    StructField('flag', StringType(), True),\n",
    "    StructField('flag_description', StringType(), True),\n",
    "    StructField('value', StringType(), True),\n",
    "    StructField('value_description', StringType(), True)\n",
    "\n",
    "\n",
    "])\n",
    "\n",
    "flag_description_df = (spark.read\n",
    "               .schema(schema)\n",
    "               .option(\"header\", \"false\")\n",
    "               .csv(flag_description_file)\n",
    "              )\n",
    "\n",
    "flag_description_df.printSchema()\n",
    "flag_description_df.show(10, truncate=100)\n",
    "flag_description_df.describe().show(truncate=100)"
   ]
  },
  {
   "cell_type": "code",
   "execution_count": 6,
   "metadata": {},
   "outputs": [],
   "source": [
    "spark.stop()"
   ]
  },
  {
   "cell_type": "code",
   "execution_count": null,
   "metadata": {},
   "outputs": [],
   "source": []
  }
 ],
 "metadata": {
  "kernelspec": {
   "display_name": "Python 3",
   "language": "python",
   "name": "python3"
  },
  "language_info": {
   "codemirror_mode": {
    "name": "ipython",
    "version": 3
   },
   "file_extension": ".py",
   "mimetype": "text/x-python",
   "name": "python",
   "nbconvert_exporter": "python",
   "pygments_lexer": "ipython3",
   "version": "3.7.3"
  }
 },
 "nbformat": 4,
 "nbformat_minor": 4
}
