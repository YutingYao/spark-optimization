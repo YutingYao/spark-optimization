{
 "cells": [
  {
   "cell_type": "markdown",
   "metadata": {},
   "source": [
    "# Spark Hackaton\n",
    "![footer_logo_new](images/logo_new.png)"
   ]
  },
  {
   "cell_type": "markdown",
   "metadata": {},
   "source": [
    "\n",
    "The goal of this hackathon is discover trends in weather data for the last 30 year.\n",
    "\n",
    "We want to investigate the friequency and distribution of the extreme weather conditions\n",
    "Extreme weather conditions include:\n",
    "- Drought (15 consequtive days with below-average precipitation, when precipitation smaller than avarage for counrty by 10%)\n",
    "- Hurricane: strong wind, heavy rain (wind 32,6 m/s + rain) \n",
    "- Snow storm: heavy snow, ice, cold temperatures and wind at least 56 km/h \n",
    "- Ice storm: freezing rain (wind 15 m/s (56 km/h) temperature −7 °C and lower)\n",
    "\n",
    "We want to answer the following questions:\n",
    "1. Does the extreme weather happen more often for the last 30 years?\n",
    "2. What is the country which has the most extreme conditions for the last 30 years?\n",
    "3. How number of weather conditions changes per climate zone 30 years? (for the climate zones definition - 11- Spark optimization, last question) \n",
    "\n"
   ]
  },
  {
   "cell_type": "markdown",
   "metadata": {},
   "source": [
    "## Data"
   ]
  },
  {
   "cell_type": "markdown",
   "metadata": {},
   "source": [
    "The data is stored here: data/meteo-data and comes in two formats (csv and parquet). \n",
    "Together with meteo observations data there is also a station description and observation description\n",
    "\n",
    "A data line looks like this: \n",
    "\n",
    "|station_identifier|      date|observation_type|observation_value|MFLAG1|QFLAG1|SFLAG1|time|yyyy|\n",
    "|------------------|----------|----------------|-----------------|------|------|------|----|----|\n",
    "|       AE000041196|2011-01-01|            TMAX|              251|  null|  null|     S|null|2011|\n",
    "|       US1ILKN0067|2011-11-01|            SNOW|                0|     H|  null|     S|null|2011|\n"
   ]
  },
  {
   "cell_type": "markdown",
   "metadata": {},
   "source": [
    "# Results "
   ]
  },
  {
   "cell_type": "markdown",
   "metadata": {},
   "source": [
    "Results should look like this: \n",
    "\n",
    "1.\n",
    "\n",
    "|station_identifier|      extreme weather|increasing/decrising|\n",
    "|------------------|---------------------|--------------------|\n",
    "|       AE000041196|Drought              |           increaing|\n",
    "|       US1ILKN0067|Snow storm           |           decrising|\n",
    "\n",
    "2.\n",
    "\n",
    "|country           |      extreme weather|number              |\n",
    "|------------------|---------------------|--------------------|\n",
    "|                NL|Drought              |                   5|\n",
    "|                US|Snow storm           |                 100|\n",
    "\n",
    "3.\n",
    "\n",
    "|climate zone      |      extreme weather|increasing/decrising|\n",
    "|------------------|---------------------|--------------------|\n",
    "|           Tropics|Drought              |          increasing|\n",
    "|           Ice cap|Snow storm           |           decrising|\n"
   ]
  },
  {
   "cell_type": "markdown",
   "metadata": {},
   "source": [
    "## Shortcuts \n",
    "\n",
    "- Choose one extreme weather condition to work with.\n",
    "- Drought is more complicated example comparing to other weather conditions.\n",
    "- Try your code on the small dataset (limited number of stations, year, etc.)\n"
   ]
  },
  {
   "cell_type": "markdown",
   "metadata": {},
   "source": [
    "## Bonus topics"
   ]
  },
  {
   "cell_type": "markdown",
   "metadata": {},
   "source": [
    "- Optimise your solution. \n",
    "- Take data quality tags into account. \n",
    "- Try to apply additional logic if the values are missing or not the best quality. \n",
    "- Structure your code so that it can be deployed.\n",
    "- Try writing unit tests for Spark.\n"
   ]
  },
  {
   "cell_type": "code",
   "execution_count": null,
   "metadata": {},
   "outputs": [],
   "source": []
  }
 ],
 "metadata": {
  "kernelspec": {
   "display_name": "Python 3",
   "language": "python",
   "name": "python3"
  },
  "language_info": {
   "codemirror_mode": {
    "name": "ipython",
    "version": 3
   },
   "file_extension": ".py",
   "mimetype": "text/x-python",
   "name": "python",
   "nbconvert_exporter": "python",
   "pygments_lexer": "ipython3",
   "version": "3.7.3"
  }
 },
 "nbformat": 4,
 "nbformat_minor": 4
}
