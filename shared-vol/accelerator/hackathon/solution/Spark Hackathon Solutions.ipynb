{
 "cells": [
  {
   "cell_type": "code",
   "execution_count": 20,
   "metadata": {},
   "outputs": [],
   "source": [
    "from pyspark.sql import SparkSession\n",
    "\n",
    "spark = SparkSession.builder.getOrCreate()"
   ]
  },
  {
   "cell_type": "code",
   "execution_count": 21,
   "metadata": {},
   "outputs": [],
   "source": [
    "import re\n",
    "\n",
    "from pyspark.sql.functions import coalesce, col, datediff, dense_rank, desc, explode, from_unixtime, lag, lit, rank, sum as sum_, trim, udf, unix_timestamp, window\n",
    "from pyspark.sql.window import Window\n",
    "from pyspark.sql.types import StringType, StructField, StructType"
   ]
  },
  {
   "cell_type": "code",
   "execution_count": 22,
   "metadata": {},
   "outputs": [],
   "source": [
    "DATA_PATH = \"/tmp/spark_access.log\"\n",
    "DEVICE_MAP_PATH = \"/home/daniel/code/gdd/accelerator/trainings/de_accelerator/spark/hackathon/setup/user_agents_map.csv\""
   ]
  },
  {
   "cell_type": "code",
   "execution_count": 28,
   "metadata": {},
   "outputs": [],
   "source": [
    "DATA_PATH = \"/home/daniel/code/gdd/accelerator/trainings/de_accelerator/spark/data/apachelog_large/\""
   ]
  },
  {
   "cell_type": "markdown",
   "metadata": {},
   "source": [
    "# Step 1: Parse raw data (with correct dates)"
   ]
  },
  {
   "cell_type": "code",
   "execution_count": 35,
   "metadata": {
    "scrolled": true
   },
   "outputs": [],
   "source": [
    "df = spark.read.parquet(DATA_PATH)"
   ]
  },
  {
   "cell_type": "code",
   "execution_count": 36,
   "metadata": {},
   "outputs": [
    {
     "name": "stdout",
     "output_type": "stream",
     "text": [
      "+--------------------+\n",
      "|               value|\n",
      "+--------------------+\n",
      "|26.158.235.134 - ...|\n",
      "|26.158.235.134 - ...|\n",
      "|26.158.235.134 - ...|\n",
      "|26.158.235.134 - ...|\n",
      "|26.158.235.134 - ...|\n",
      "|26.158.235.134 - ...|\n",
      "|26.158.235.134 - ...|\n",
      "|26.158.235.134 - ...|\n",
      "|26.158.235.134 - ...|\n",
      "|26.158.235.134 - ...|\n",
      "|26.158.235.134 - ...|\n",
      "|26.158.235.134 - ...|\n",
      "|26.158.235.134 - ...|\n",
      "|26.158.235.134 - ...|\n",
      "|26.158.235.134 - ...|\n",
      "|26.158.235.134 - ...|\n",
      "|26.158.235.134 - ...|\n",
      "|26.158.235.134 - ...|\n",
      "|26.158.235.134 - ...|\n",
      "|26.158.235.134 - ...|\n",
      "+--------------------+\n",
      "only showing top 20 rows\n",
      "\n"
     ]
    }
   ],
   "source": [
    "df.show()"
   ]
  },
  {
   "cell_type": "code",
   "execution_count": 37,
   "metadata": {},
   "outputs": [],
   "source": [
    "log_line_pattern = re.compile(r'(\\S+).*\\[(.*)\\].*\\\"GET\\s(.*)\\sHTTP.*\\\".*(\\d{3})\\s(\\d{1,5})\\s\\\"\\-\\\"\\s\\\"(.*)\\\"$')\n",
    "\n",
    "schema = StructType([\n",
    "    StructField(\"ip_address\", StringType()),\n",
    "    StructField(\"timestamp\", StringType()),\n",
    "    StructField(\"url\", StringType()),\n",
    "    StructField(\"status_code\", StringType()),\n",
    "    StructField(\"response_bytes_size\", StringType()),\n",
    "    StructField(\"user_agent\", StringType())\n",
    "])\n",
    "\n",
    "def parse_log_line(line):\n",
    "    groups = log_line_pattern.findall(line)\n",
    "    return [g for g in groups[0]]\n",
    "    \n",
    "parse_udf = udf(parse_log_line, schema)"
   ]
  },
  {
   "cell_type": "code",
   "execution_count": 38,
   "metadata": {},
   "outputs": [],
   "source": [
    "parsed_lines = df.select(parse_udf(\"value\").alias(\"parsed\"))"
   ]
  },
  {
   "cell_type": "code",
   "execution_count": 40,
   "metadata": {},
   "outputs": [
    {
     "name": "stdout",
     "output_type": "stream",
     "text": [
      "root\n",
      " |-- parsed: struct (nullable = true)\n",
      " |    |-- ip_address: string (nullable = true)\n",
      " |    |-- timestamp: string (nullable = true)\n",
      " |    |-- url: string (nullable = true)\n",
      " |    |-- status_code: string (nullable = true)\n",
      " |    |-- response_bytes_size: string (nullable = true)\n",
      " |    |-- user_agent: string (nullable = true)\n",
      "\n"
     ]
    }
   ],
   "source": [
    "parsed_lines.printSchema()"
   ]
  },
  {
   "cell_type": "code",
   "execution_count": 23,
   "metadata": {},
   "outputs": [],
   "source": [
    "# gotcha: there are 2 different timestamp formats in the dataset\n",
    "def to_timestamps(col, formats=(\"dd/MMM/yyyy:HH:mm:ss\", \"yyyy-MM-dd HH:mm:ss\")):\n",
    "    return coalesce(*[unix_timestamp(col, f) for f in formats])"
   ]
  },
  {
   "cell_type": "code",
   "execution_count": 41,
   "metadata": {},
   "outputs": [],
   "source": [
    "timestamps_parsed = parsed_lines.select(\"parsed.*\").withColumn(\"timestamp\", to_timestamps(\"timestamp\").cast(\"timestamp\"))"
   ]
  },
  {
   "cell_type": "code",
   "execution_count": 44,
   "metadata": {},
   "outputs": [
    {
     "name": "stdout",
     "output_type": "stream",
     "text": [
      "+--------------+-------------------+----------------+-----------+-------------------+--------------------+\n",
      "|    ip_address|          timestamp|             url|status_code|response_bytes_size|          user_agent|\n",
      "+--------------+-------------------+----------------+-----------+-------------------+--------------------+\n",
      "|26.158.235.134|2019-01-14 06:09:13|http://www.nu.nl|        200|               1233|Mozilla/5.0 (Linu...|\n",
      "|26.158.235.134|2019-01-15 06:02:22|http://www.nu.nl|        200|               1193|Mozilla/5.0 (Linu...|\n",
      "|26.158.235.134|2019-01-15 06:04:53|http://www.nu.nl|        200|               1520|Mozilla/5.0 (Linu...|\n",
      "|26.158.235.134|2019-01-15 06:05:22|http://www.nu.nl|        200|                953|Mozilla/5.0 (Linu...|\n",
      "|26.158.235.134|2019-01-15 06:06:27|http://www.nu.nl|        200|               1936|Mozilla/5.0 (Linu...|\n",
      "|26.158.235.134|2019-01-15 06:07:14|http://www.nu.nl|        200|               2041|Mozilla/5.0 (Linu...|\n",
      "|26.158.235.134|2019-01-15 06:08:37|http://www.nu.nl|        200|                740|Mozilla/5.0 (Linu...|\n",
      "|26.158.235.134|2019-01-17 06:00:39|http://www.nu.nl|        200|                200|Mozilla/5.0 (Linu...|\n",
      "|26.158.235.134|2019-01-17 06:05:11|http://www.nu.nl|        404|               1082|Mozilla/5.0 (Linu...|\n",
      "|26.158.235.134|2019-01-17 06:06:06|http://www.nu.nl|        200|               2086|Mozilla/5.0 (Linu...|\n",
      "|26.158.235.134|2019-01-19 06:00:57|http://www.nu.nl|        200|                239|Mozilla/5.0 (Linu...|\n",
      "|26.158.235.134|2019-01-19 06:00:59|http://www.nu.nl|        200|               1417|Mozilla/5.0 (Linu...|\n",
      "|26.158.235.134|2019-01-19 06:01:05|http://www.nu.nl|        200|               1735|Mozilla/5.0 (Linu...|\n",
      "|26.158.235.134|2019-01-19 06:04:45|http://www.nu.nl|        200|               1735|Mozilla/5.0 (Linu...|\n",
      "|26.158.235.134|2019-01-19 06:06:56|http://www.nu.nl|        200|               2161|Mozilla/5.0 (Linu...|\n",
      "|26.158.235.134|2019-01-19 06:07:39|http://www.nu.nl|        503|                976|Mozilla/5.0 (Linu...|\n",
      "|26.158.235.134|2019-01-19 06:07:50|http://www.nu.nl|        200|                740|Mozilla/5.0 (Linu...|\n",
      "|26.158.235.134|2019-01-19 06:07:59|http://www.nu.nl|        200|               1376|Mozilla/5.0 (Linu...|\n",
      "|26.158.235.134|2019-01-20 06:00:23|http://www.nu.nl|        200|               2222|Mozilla/5.0 (Linu...|\n",
      "|26.158.235.134|2019-01-20 06:01:15|http://www.nu.nl|        200|                766|Mozilla/5.0 (Linu...|\n",
      "+--------------+-------------------+----------------+-----------+-------------------+--------------------+\n",
      "only showing top 20 rows\n",
      "\n"
     ]
    }
   ],
   "source": [
    "timestamps_parsed.show()"
   ]
  },
  {
   "cell_type": "code",
   "execution_count": 26,
   "metadata": {},
   "outputs": [],
   "source": [
    "parsed_data = timestamps_parsed.withColumn(\"status_code\", col(\"status_code\").cast(\"int\")).withColumn(\"response_bytes_size\", col(\"response_bytes_size\").cast(\"int\"))"
   ]
  },
  {
   "cell_type": "code",
   "execution_count": 27,
   "metadata": {},
   "outputs": [],
   "source": [
    "parsed_data = parsed_data.withColumn(\"user_agent\", trim(parsed_data.user_agent))"
   ]
  },
  {
   "cell_type": "code",
   "execution_count": 28,
   "metadata": {
    "pycharm": {
     "name": "#%%\n"
    }
   },
   "outputs": [
    {
     "name": "stdout",
     "output_type": "stream",
     "text": [
      "root\n",
      " |-- ip_address: string (nullable = true)\n",
      " |-- timestamp: timestamp (nullable = true)\n",
      " |-- url: string (nullable = true)\n",
      " |-- status_code: integer (nullable = true)\n",
      " |-- response_bytes_size: integer (nullable = true)\n",
      " |-- user_agent: string (nullable = true)\n",
      "\n"
     ]
    }
   ],
   "source": [
    "parsed_data.printSchema()"
   ]
  },
  {
   "cell_type": "code",
   "execution_count": 29,
   "metadata": {},
   "outputs": [
    {
     "data": {
      "text/plain": [
       "982"
      ]
     },
     "execution_count": 29,
     "metadata": {},
     "output_type": "execute_result"
    }
   ],
   "source": [
    "parsed_data.select(\"user_agent\").distinct().count()"
   ]
  },
  {
   "cell_type": "markdown",
   "metadata": {
    "pycharm": {
     "name": "#%% md\n"
    }
   },
   "source": [
    "# Step 2: Extract news categories per logline and display top N most popular categories overall"
   ]
  },
  {
   "cell_type": "code",
   "execution_count": 30,
   "metadata": {},
   "outputs": [],
   "source": [
    "category_pattern = re.compile(r'(http|https)://www\\.nu\\.nl(/[A-Z,a-z,-]*/)?')\n",
    "\n",
    "def extract_category(line):\n",
    "    groups = category_pattern.findall(line)\n",
    "    category = groups[0][1].replace(\"/\", \"\")\n",
    "    # explicitly return `None` in order to set category to null instead of empty string\n",
    "    if category:\n",
    "        return category\n",
    "    return None\n",
    "\n",
    "extract_category_udf = udf(extract_category, StringType())"
   ]
  },
  {
   "cell_type": "code",
   "execution_count": 31,
   "metadata": {
    "pycharm": {
     "name": "#%%\n"
    }
   },
   "outputs": [],
   "source": [
    "category_extracted_data = parsed_data.withColumn(\"category\", extract_category_udf(\"url\"))"
   ]
  },
  {
   "cell_type": "code",
   "execution_count": 32,
   "metadata": {
    "scrolled": true
   },
   "outputs": [
    {
     "name": "stdout",
     "output_type": "stream",
     "text": [
      "+-------------------+------+\n",
      "|           category| count|\n",
      "+-------------------+------+\n",
      "|               null|284012|\n",
      "|         wielrennen|  7689|\n",
      "|             leiden|  7686|\n",
      "|              games|  7374|\n",
      "|          geldzaken|  7300|\n",
      "|              wonen|  7257|\n",
      "|               tech|  7237|\n",
      "|               auto|  7170|\n",
      "|         gezondheid|  7107|\n",
      "|           politiek|  6952|\n",
      "|              breda|  6870|\n",
      "|              sport|  6849|\n",
      "|alphen-aan-den-rijn|  6817|\n",
      "|            voetbal|  6797|\n",
      "|        opmerkelijk|  6776|\n",
      "|           internet|  6704|\n",
      "|            utrecht|  6694|\n",
      "|         wetenschap|  6624|\n",
      "|         achterklap|  6470|\n",
      "|         buitenland|  6442|\n",
      "+-------------------+------+\n",
      "only showing top 20 rows\n",
      "\n"
     ]
    }
   ],
   "source": [
    "category_extracted_data.groupby(\"category\").count().sort(desc(\"count\")).show()"
   ]
  },
  {
   "cell_type": "markdown",
   "metadata": {
    "pycharm": {
     "name": "#%% md\n"
    }
   },
   "source": [
    "# Step 3: Show the top N most popular pages per (configurable) time window"
   ]
  },
  {
   "cell_type": "code",
   "execution_count": null,
   "outputs": [],
   "source": [
    "categories_with_counts = category_extracted_data.groupBy(col(\"category\"), window(col(\"timestamp\"), \"1 day\")).count()"
   ],
   "metadata": {
    "collapsed": false,
    "pycharm": {
     "name": "#%%\n"
    }
   }
  },
  {
   "cell_type": "code",
   "execution_count": null,
   "outputs": [],
   "source": [
    "categories_with_counts.orderBy(col(\"window\"), desc(\"count\")).show(200)"
   ],
   "metadata": {
    "collapsed": false,
    "pycharm": {
     "name": "#%%\n"
    }
   }
  },
  {
   "cell_type": "code",
   "execution_count": 33,
   "metadata": {},
   "outputs": [],
   "source": [
    "# Step 4: Enrich with device types\n"
   ]
  },
  {
   "cell_type": "code",
   "execution_count": 34,
   "metadata": {},
   "outputs": [
    {
     "name": "stdout",
     "output_type": "stream",
     "text": [
      "+-------------------+--------------------+-----+\n",
      "|           category|              window|count|\n",
      "+-------------------+--------------------+-----+\n",
      "|               null|[2019-01-01 01:00...|  137|\n",
      "|           internet|[2019-01-01 01:00...|   21|\n",
      "|         wielrennen|[2019-01-01 01:00...|   16|\n",
      "|         binnenland|[2019-01-01 01:00...|   10|\n",
      "|           economie|[2019-01-01 01:00...|   10|\n",
      "|         buitenland|[2019-01-01 01:00...|    8|\n",
      "|              wonen|[2019-01-01 01:00...|    8|\n",
      "|            weekend|[2019-01-01 01:00...|    8|\n",
      "|            utrecht|[2019-01-01 01:00...|    8|\n",
      "|              sport|[2019-01-01 01:00...|    6|\n",
      "|               auto|[2019-01-01 01:00...|    5|\n",
      "|             leiden|[2019-01-01 01:00...|    5|\n",
      "|        opmerkelijk|[2019-01-01 01:00...|    5|\n",
      "|         gezondheid|[2019-01-01 01:00...|    3|\n",
      "|              breda|[2019-01-01 01:00...|    3|\n",
      "|           politiek|[2019-01-01 01:00...|    2|\n",
      "|           algemeen|[2019-01-01 01:00...|    1|\n",
      "|         achterklap|[2019-01-01 01:00...|    1|\n",
      "|              media|[2019-01-01 01:00...|    1|\n",
      "|          geldzaken|[2019-01-01 01:00...|    1|\n",
      "|          groningen|[2019-01-01 01:00...|    1|\n",
      "|               null|[2019-01-02 01:00...|  358|\n",
      "|      entertainment|[2019-01-02 01:00...|   30|\n",
      "|               apps|[2019-01-02 01:00...|   23|\n",
      "|           internet|[2019-01-02 01:00...|   22|\n",
      "|              breda|[2019-01-02 01:00...|   19|\n",
      "|         buitenland|[2019-01-02 01:00...|   19|\n",
      "|            utrecht|[2019-01-02 01:00...|   11|\n",
      "|        opmerkelijk|[2019-01-02 01:00...|   11|\n",
      "|           algemeen|[2019-01-02 01:00...|   11|\n",
      "|          geldzaken|[2019-01-02 01:00...|   11|\n",
      "|alphen-aan-den-rijn|[2019-01-02 01:00...|   10|\n",
      "|              media|[2019-01-02 01:00...|    9|\n",
      "|         wielrennen|[2019-01-02 01:00...|    9|\n",
      "|         binnenland|[2019-01-02 01:00...|    9|\n",
      "|            voetbal|[2019-01-02 01:00...|    9|\n",
      "|         wetenschap|[2019-01-02 01:00...|    8|\n",
      "|              sport|[2019-01-02 01:00...|    7|\n",
      "|          groningen|[2019-01-02 01:00...|    7|\n",
      "|               film|[2019-01-02 01:00...|    7|\n",
      "|     cultuur-overig|[2019-01-02 01:00...|    6|\n",
      "|         ondernemen|[2019-01-02 01:00...|    6|\n",
      "|             mobiel|[2019-01-02 01:00...|    6|\n",
      "|           politiek|[2019-01-02 01:00...|    6|\n",
      "|            gadgets|[2019-01-02 01:00...|    5|\n",
      "|         achterklap|[2019-01-02 01:00...|    5|\n",
      "|             dieren|[2019-01-02 01:00...|    5|\n",
      "|          amsterdam|[2019-01-02 01:00...|    4|\n",
      "|               tech|[2019-01-02 01:00...|    3|\n",
      "|              wonen|[2019-01-02 01:00...|    2|\n",
      "|         gezondheid|[2019-01-02 01:00...|    1|\n",
      "|              games|[2019-01-02 01:00...|    1|\n",
      "|           economie|[2019-01-02 01:00...|    1|\n",
      "|               null|[2019-01-03 01:00...|  698|\n",
      "|          amsterdam|[2019-01-03 01:00...|   53|\n",
      "|              sport|[2019-01-03 01:00...|   32|\n",
      "|            utrecht|[2019-01-03 01:00...|   27|\n",
      "|         achterklap|[2019-01-03 01:00...|   23|\n",
      "|         buitenland|[2019-01-03 01:00...|   23|\n",
      "|         gezondheid|[2019-01-03 01:00...|   23|\n",
      "|               apps|[2019-01-03 01:00...|   21|\n",
      "|              wonen|[2019-01-03 01:00...|   20|\n",
      "|     cultuur-overig|[2019-01-03 01:00...|   20|\n",
      "|            voetbal|[2019-01-03 01:00...|   19|\n",
      "|            gadgets|[2019-01-03 01:00...|   18|\n",
      "|          groningen|[2019-01-03 01:00...|   17|\n",
      "|         binnenland|[2019-01-03 01:00...|   16|\n",
      "|           internet|[2019-01-03 01:00...|   15|\n",
      "|               film|[2019-01-03 01:00...|   14|\n",
      "|             leiden|[2019-01-03 01:00...|   14|\n",
      "|           algemeen|[2019-01-03 01:00...|   14|\n",
      "|               tech|[2019-01-03 01:00...|   13|\n",
      "|              breda|[2019-01-03 01:00...|   12|\n",
      "|        opmerkelijk|[2019-01-03 01:00...|   12|\n",
      "|      entertainment|[2019-01-03 01:00...|   11|\n",
      "|             dieren|[2019-01-03 01:00...|   11|\n",
      "|             muziek|[2019-01-03 01:00...|   11|\n",
      "|               auto|[2019-01-03 01:00...|   10|\n",
      "|         wielrennen|[2019-01-03 01:00...|   10|\n",
      "|            weekend|[2019-01-03 01:00...|   10|\n",
      "|alphen-aan-den-rijn|[2019-01-03 01:00...|    9|\n",
      "|           politiek|[2019-01-03 01:00...|    8|\n",
      "|              games|[2019-01-03 01:00...|    8|\n",
      "|          geldzaken|[2019-01-03 01:00...|    8|\n",
      "|              media|[2019-01-03 01:00...|    8|\n",
      "|           economie|[2019-01-03 01:00...|    7|\n",
      "|         wetenschap|[2019-01-03 01:00...|    6|\n",
      "|             mobiel|[2019-01-03 01:00...|    6|\n",
      "|         ondernemen|[2019-01-03 01:00...|    1|\n",
      "|               null|[2019-01-04 01:00...|  979|\n",
      "|              wonen|[2019-01-04 01:00...|   47|\n",
      "|           internet|[2019-01-04 01:00...|   46|\n",
      "|     cultuur-overig|[2019-01-04 01:00...|   39|\n",
      "|             mobiel|[2019-01-04 01:00...|   38|\n",
      "|           politiek|[2019-01-04 01:00...|   38|\n",
      "|         binnenland|[2019-01-04 01:00...|   38|\n",
      "|         wielrennen|[2019-01-04 01:00...|   36|\n",
      "|              sport|[2019-01-04 01:00...|   34|\n",
      "|              media|[2019-01-04 01:00...|   32|\n",
      "|          geldzaken|[2019-01-04 01:00...|   29|\n",
      "|               auto|[2019-01-04 01:00...|   28|\n",
      "|               film|[2019-01-04 01:00...|   25|\n",
      "|          amsterdam|[2019-01-04 01:00...|   24|\n",
      "|              games|[2019-01-04 01:00...|   22|\n",
      "|         buitenland|[2019-01-04 01:00...|   20|\n",
      "|         gezondheid|[2019-01-04 01:00...|   20|\n",
      "|            utrecht|[2019-01-04 01:00...|   18|\n",
      "|         wetenschap|[2019-01-04 01:00...|   18|\n",
      "|      entertainment|[2019-01-04 01:00...|   18|\n",
      "|           economie|[2019-01-04 01:00...|   18|\n",
      "|               tech|[2019-01-04 01:00...|   17|\n",
      "|           algemeen|[2019-01-04 01:00...|   14|\n",
      "|             dieren|[2019-01-04 01:00...|   14|\n",
      "|        opmerkelijk|[2019-01-04 01:00...|   13|\n",
      "|               apps|[2019-01-04 01:00...|   13|\n",
      "|             muziek|[2019-01-04 01:00...|   12|\n",
      "|            voetbal|[2019-01-04 01:00...|   11|\n",
      "|             leiden|[2019-01-04 01:00...|   10|\n",
      "|alphen-aan-den-rijn|[2019-01-04 01:00...|    9|\n",
      "|            gadgets|[2019-01-04 01:00...|    9|\n",
      "|         ondernemen|[2019-01-04 01:00...|    5|\n",
      "|         achterklap|[2019-01-04 01:00...|    5|\n",
      "|            weekend|[2019-01-04 01:00...|    4|\n",
      "|              breda|[2019-01-04 01:00...|    3|\n",
      "|          groningen|[2019-01-04 01:00...|    1|\n",
      "|               null|[2019-01-05 01:00...| 1329|\n",
      "|alphen-aan-den-rijn|[2019-01-05 01:00...|   50|\n",
      "|         achterklap|[2019-01-05 01:00...|   44|\n",
      "|            utrecht|[2019-01-05 01:00...|   41|\n",
      "|             leiden|[2019-01-05 01:00...|   38|\n",
      "|        opmerkelijk|[2019-01-05 01:00...|   37|\n",
      "|         buitenland|[2019-01-05 01:00...|   36|\n",
      "|            gadgets|[2019-01-05 01:00...|   36|\n",
      "|           internet|[2019-01-05 01:00...|   31|\n",
      "|         gezondheid|[2019-01-05 01:00...|   29|\n",
      "|     cultuur-overig|[2019-01-05 01:00...|   29|\n",
      "|         wielrennen|[2019-01-05 01:00...|   28|\n",
      "|              sport|[2019-01-05 01:00...|   27|\n",
      "|            weekend|[2019-01-05 01:00...|   25|\n",
      "|              wonen|[2019-01-05 01:00...|   25|\n",
      "|           politiek|[2019-01-05 01:00...|   24|\n",
      "|          geldzaken|[2019-01-05 01:00...|   24|\n",
      "|          groningen|[2019-01-05 01:00...|   24|\n",
      "|               auto|[2019-01-05 01:00...|   23|\n",
      "|             mobiel|[2019-01-05 01:00...|   23|\n",
      "|           algemeen|[2019-01-05 01:00...|   22|\n",
      "|           economie|[2019-01-05 01:00...|   20|\n",
      "|               film|[2019-01-05 01:00...|   20|\n",
      "|              breda|[2019-01-05 01:00...|   19|\n",
      "|          amsterdam|[2019-01-05 01:00...|   19|\n",
      "|         binnenland|[2019-01-05 01:00...|   18|\n",
      "|             dieren|[2019-01-05 01:00...|   16|\n",
      "|              games|[2019-01-05 01:00...|   16|\n",
      "|               apps|[2019-01-05 01:00...|   16|\n",
      "|              media|[2019-01-05 01:00...|   14|\n",
      "|         ondernemen|[2019-01-05 01:00...|   14|\n",
      "|             muziek|[2019-01-05 01:00...|   13|\n",
      "|            voetbal|[2019-01-05 01:00...|   13|\n",
      "|               tech|[2019-01-05 01:00...|   11|\n",
      "|             reizen|[2019-01-05 01:00...|   10|\n",
      "|         wetenschap|[2019-01-05 01:00...|    9|\n",
      "|      entertainment|[2019-01-05 01:00...|    9|\n",
      "|               null|[2019-01-06 01:00...| 1572|\n",
      "|             mobiel|[2019-01-06 01:00...|   69|\n",
      "|         wielrennen|[2019-01-06 01:00...|   64|\n",
      "|              wonen|[2019-01-06 01:00...|   63|\n",
      "|              sport|[2019-01-06 01:00...|   61|\n",
      "|      entertainment|[2019-01-06 01:00...|   58|\n",
      "|           internet|[2019-01-06 01:00...|   44|\n",
      "|           politiek|[2019-01-06 01:00...|   43|\n",
      "|             dieren|[2019-01-06 01:00...|   41|\n",
      "|        opmerkelijk|[2019-01-06 01:00...|   41|\n",
      "|         gezondheid|[2019-01-06 01:00...|   40|\n",
      "|            utrecht|[2019-01-06 01:00...|   38|\n",
      "|            voetbal|[2019-01-06 01:00...|   37|\n",
      "|         achterklap|[2019-01-06 01:00...|   36|\n",
      "|          geldzaken|[2019-01-06 01:00...|   35|\n",
      "|               auto|[2019-01-06 01:00...|   34|\n",
      "|             reizen|[2019-01-06 01:00...|   33|\n",
      "|     cultuur-overig|[2019-01-06 01:00...|   33|\n",
      "|              media|[2019-01-06 01:00...|   30|\n",
      "|              games|[2019-01-06 01:00...|   30|\n",
      "|          amsterdam|[2019-01-06 01:00...|   30|\n",
      "|             leiden|[2019-01-06 01:00...|   29|\n",
      "|         wetenschap|[2019-01-06 01:00...|   29|\n",
      "|         binnenland|[2019-01-06 01:00...|   28|\n",
      "|               tech|[2019-01-06 01:00...|   27|\n",
      "|         ondernemen|[2019-01-06 01:00...|   27|\n",
      "|             muziek|[2019-01-06 01:00...|   26|\n",
      "|            weekend|[2019-01-06 01:00...|   25|\n",
      "|               film|[2019-01-06 01:00...|   24|\n",
      "|              breda|[2019-01-06 01:00...|   20|\n",
      "|           economie|[2019-01-06 01:00...|   19|\n",
      "|         buitenland|[2019-01-06 01:00...|   18|\n",
      "|alphen-aan-den-rijn|[2019-01-06 01:00...|   18|\n",
      "|           algemeen|[2019-01-06 01:00...|   15|\n",
      "|            gadgets|[2019-01-06 01:00...|   15|\n",
      "|          groningen|[2019-01-06 01:00...|   13|\n",
      "|               apps|[2019-01-06 01:00...|    8|\n",
      "|               null|[2019-01-07 01:00...| 1895|\n",
      "+-------------------+--------------------+-----+\n",
      "only showing top 200 rows\n",
      "\n"
     ]
    }
   ],
   "source": [
    "categories_with_counts.orderBy(col(\"window\"), desc(\"count\")).show(200)"
   ]
  },
  {
   "cell_type": "markdown",
   "metadata": {},
   "source": [
    "# Step 4: Enrich with device types\n"
   ]
  },
  {
   "cell_type": "code",
   "execution_count": 43,
   "metadata": {},
   "outputs": [],
   "source": [
    "devices = spark.read.csv(DEVICE_MAP_PATH).toDF(\"user_agent\",\"device_type\")"
   ]
  },
  {
   "cell_type": "code",
   "execution_count": 44,
   "metadata": {},
   "outputs": [
    {
     "name": "stdout",
     "output_type": "stream",
     "text": [
      "+--------------------+-----------+\n",
      "|          user_agent|device_type|\n",
      "+--------------------+-----------+\n",
      "|Mozilla/5.0 (X11;...|       null|\n",
      "|Mozilla/5.0 (iPho...|       null|\n",
      "|Mozilla/5.0 (Wind...|       null|\n",
      "|Mozilla/5.0 Apple...|       null|\n",
      "|Mozilla/5.0 (Wind...|       null|\n",
      "|http://www.userag...|       null|\n",
      "|Mozilla/5.0 (X11;...|       null|\n",
      "|Mozilla/5.0 (comp...|       null|\n",
      "+--------------------+-----------+\n",
      "\n"
     ]
    }
   ],
   "source": [
    "# Gotcha: not all user agents in the mapping actually have a corresponding device type. This leads to nulls further on.\n",
    "devices.filter(devices.device_type.isNull()).show()"
   ]
  },
  {
   "cell_type": "code",
   "execution_count": 45,
   "metadata": {},
   "outputs": [],
   "source": [
    "# Gotcha: make sure to do a left join, otherwise you'll lose records.\n",
    "enriched = category_extracted_data.join(devices, \"user_agent\", \"left\")"
   ]
  },
  {
   "cell_type": "code",
   "execution_count": 46,
   "metadata": {},
   "outputs": [
    {
     "name": "stdout",
     "output_type": "stream",
     "text": [
      "+-----------+------+\n",
      "|device_type| count|\n",
      "+-----------+------+\n",
      "|    desktop|379624|\n",
      "| smartphone| 29068|\n",
      "|       null|  5001|\n",
      "|     tablet| 94651|\n",
      "+-----------+------+\n",
      "\n"
     ]
    }
   ],
   "source": [
    "enriched.groupBy(\"device_type\").count().show()"
   ]
  },
  {
   "cell_type": "code",
   "execution_count": 47,
   "metadata": {},
   "outputs": [
    {
     "data": {
      "text/plain": [
       "8"
      ]
     },
     "execution_count": 47,
     "metadata": {},
     "output_type": "execute_result"
    }
   ],
   "source": [
    "enriched.filter(enriched.device_type.isNull()).select(\"user_agent\").distinct().count()"
   ]
  },
  {
   "cell_type": "code",
   "execution_count": 48,
   "metadata": {},
   "outputs": [
    {
     "name": "stdout",
     "output_type": "stream",
     "text": [
      "root\n",
      " |-- user_agent: string (nullable = true)\n",
      " |-- ip_address: string (nullable = true)\n",
      " |-- timestamp: timestamp (nullable = true)\n",
      " |-- url: string (nullable = true)\n",
      " |-- status_code: integer (nullable = true)\n",
      " |-- response_bytes_size: integer (nullable = true)\n",
      " |-- category: string (nullable = true)\n",
      " |-- device_type: string (nullable = true)\n",
      "\n"
     ]
    }
   ],
   "source": [
    "enriched.printSchema()"
   ]
  },
  {
   "cell_type": "markdown",
   "metadata": {},
   "source": [
    "# Step 5: Compute the top N most popular news categories per device type per time window"
   ]
  },
  {
   "cell_type": "code",
   "execution_count": 49,
   "metadata": {},
   "outputs": [],
   "source": [
    "categories_with_counts = enriched.groupBy(col(\"category\"), col(\"device_type\"), window(col(\"timestamp\"), \"1 week\"))\n",
    "res = categories_with_counts.count()"
   ]
  },
  {
   "cell_type": "code",
   "execution_count": 50,
   "metadata": {},
   "outputs": [
    {
     "name": "stdout",
     "output_type": "stream",
     "text": [
      "+---------------+--------------------+-----+\n",
      "|     ip_address|          user_agent|count|\n",
      "+---------------+--------------------+-----+\n",
      "|   1.224.57.173|Mozilla/5.0 (X11;...|  212|\n",
      "| 207.77.122.202|Mozilla/5.0 (X11;...|  212|\n",
      "| 203.207.221.76|Mozilla/5.0 (Wind...|  211|\n",
      "|  63.24.164.223|Mozilla/5.0 (iPad...|  211|\n",
      "|  182.238.43.53|Mozilla/5.0 (Wind...|  210|\n",
      "|  35.247.89.168|Mozilla/5.0 (Wind...|  210|\n",
      "| 139.223.175.47|Mozilla/5.0 (Linu...|  207|\n",
      "|196.122.195.248|Mozilla/5.0 (Maci...|  207|\n",
      "|   8.189.50.250|Mozilla/5.0 (iPad...|  203|\n",
      "| 71.100.160.217|Mozilla/5.0 (Maci...|  203|\n",
      "|132.118.133.110|http://www.userag...|  203|\n",
      "|  95.36.138.114|Mozilla/5.0 (Linu...|  202|\n",
      "|     8.98.41.55|Mozilla/5.0 (Wind...|  201|\n",
      "| 168.70.209.174|Mozilla/5.0 (Wind...|  201|\n",
      "| 95.111.141.235|Mozilla/5.0 (Wind...|  201|\n",
      "| 191.90.221.142|Mozilla/5.0 (Wind...|  199|\n",
      "|   13.2.191.123|Mozilla/5.0 (Wind...|  199|\n",
      "|    174.2.37.21|Mozilla/5.0 (Wind...|  199|\n",
      "|205.212.170.250|Mozilla/5.0 (iPho...|  198|\n",
      "| 39.153.253.187|Mozilla/5.0 (Maci...|  198|\n",
      "+---------------+--------------------+-----+\n",
      "only showing top 20 rows\n",
      "\n"
     ]
    }
   ],
   "source": [
    "enriched.groupBy(col(\"ip_address\"), col(\"user_agent\")).count().orderBy(desc(\"count\")).show()"
   ]
  },
  {
   "cell_type": "markdown",
   "metadata": {},
   "source": [
    "# 6: Trending Categories"
   ]
  },
  {
   "cell_type": "code",
   "execution_count": 51,
   "metadata": {},
   "outputs": [],
   "source": [
    "categoryWindow = Window \\\n",
    "  .partitionBy(\"category\") \\\n",
    "  .orderBy(\"window\")\n",
    "rankingWindow = Window \\\n",
    "  .partitionBy(col(\"window\")) \\\n",
    "  .orderBy(desc(\"diff\"))\n",
    "\n",
    "dfWithLag = res \\\n",
    "  .withColumn(\"prev_count\", lag(\"count\", 1, 0) \\\n",
    "  .over(categoryWindow)) \\\n",
    "  .withColumn(\"diff\", (col(\"count\") - col(\"prev_count\"))) \\\n",
    "\n",
    "result = dfWithLag \\\n",
    "  .withColumn(\"rank\", rank().over(rankingWindow)) \\\n",
    "  .where(col(\"rank\") <= 5) \\\n",
    "  .orderBy(\"window\", \"rank\")\n"
   ]
  },
  {
   "cell_type": "code",
   "execution_count": 52,
   "metadata": {},
   "outputs": [
    {
     "name": "stdout",
     "output_type": "stream",
     "text": [
      "+--------------+-----------+--------------------+-----+----------+-----+----+\n",
      "|      category|device_type|              window|count|prev_count| diff|rank|\n",
      "+--------------+-----------+--------------------+-----+----------+-----+----+\n",
      "|          null|    desktop|[2018-12-27 01:00...|  347|         0|  347|   1|\n",
      "|          null|     tablet|[2018-12-27 01:00...|  123|        25|   98|   2|\n",
      "|      internet|     tablet|[2018-12-27 01:00...|   40|         0|   40|   3|\n",
      "| entertainment|    desktop|[2018-12-27 01:00...|   25|         0|   25|   4|\n",
      "|    wielrennen|    desktop|[2018-12-27 01:00...|   25|         0|   25|   4|\n",
      "|          null|    desktop|[2019-01-03 01:00...| 8227|       123| 8104|   1|\n",
      "|    wielrennen|    desktop|[2019-01-03 01:00...|  327|        48|  279|   2|\n",
      "|cultuur-overig|    desktop|[2019-01-03 01:00...|  278|         6|  272|   3|\n",
      "|    gezondheid|    desktop|[2019-01-03 01:00...|  262|         4|  258|   4|\n",
      "|          auto|    desktop|[2019-01-03 01:00...|  280|        29|  251|   5|\n",
      "|          null|    desktop|[2019-01-10 01:00...|19518|       247|19271|   1|\n",
      "|          null|     tablet|[2019-01-10 01:00...| 5087|       113| 4974|   2|\n",
      "|    wielrennen|    desktop|[2019-01-10 01:00...|  695|        60|  635|   3|\n",
      "|         wonen|    desktop|[2019-01-10 01:00...|  706|        87|  619|   4|\n",
      "|         sport|    desktop|[2019-01-10 01:00...|  626|        59|  567|   5|\n",
      "|          null|    desktop|[2019-01-17 01:00...|31231|      2351|28880|   1|\n",
      "|          null| smartphone|[2019-01-17 01:00...| 2351|       424| 1927|   2|\n",
      "|          auto|    desktop|[2019-01-17 01:00...|  930|        77|  853|   3|\n",
      "|         sport|    desktop|[2019-01-17 01:00...|  903|        54|  849|   4|\n",
      "|         wonen|    desktop|[2019-01-17 01:00...|  967|       136|  831|   5|\n",
      "+--------------+-----------+--------------------+-----+----------+-----+----+\n",
      "only showing top 20 rows\n",
      "\n"
     ]
    }
   ],
   "source": [
    "result.show()"
   ]
  },
  {
   "cell_type": "markdown",
   "metadata": {},
   "source": [
    "# 7: Session Duration"
   ]
  },
  {
   "cell_type": "code",
   "execution_count": 53,
   "metadata": {},
   "outputs": [],
   "source": [
    "# assign each pair of ip_address + user_agent a unique id (i.e. a rank)\n",
    "enriched_with_id = enriched.withColumn(\"user_id\", dense_rank().over(Window.orderBy(enriched.ip_address, enriched.user_agent)))"
   ]
  },
  {
   "cell_type": "code",
   "execution_count": 54,
   "metadata": {},
   "outputs": [],
   "source": [
    "w = Window.partitionBy(\"user_id\").orderBy(\"timestamp\")\n",
    "timeDiff = coalesce(unix_timestamp('timestamp')- lag(unix_timestamp('timestamp'),1).over(w), lit(0))\n",
    "\n",
    "indicator = (timeDiff > 3600).cast(\"integer\")\n",
    "session_id = sum_(indicator).over(w).alias(\"session_id\")\n",
    "enriched_sessionized = enriched_with_id.select(\"*\", session_id)"
   ]
  },
  {
   "cell_type": "code",
   "execution_count": 55,
   "metadata": {},
   "outputs": [
    {
     "name": "stdout",
     "output_type": "stream",
     "text": [
      "root\n",
      " |-- user_agent: string (nullable = true)\n",
      " |-- ip_address: string (nullable = true)\n",
      " |-- timestamp: timestamp (nullable = true)\n",
      " |-- url: string (nullable = true)\n",
      " |-- status_code: integer (nullable = true)\n",
      " |-- response_bytes_size: integer (nullable = true)\n",
      " |-- category: string (nullable = true)\n",
      " |-- device_type: string (nullable = true)\n",
      " |-- user_id: integer (nullable = true)\n",
      " |-- session_id: long (nullable = true)\n",
      "\n"
     ]
    }
   ],
   "source": [
    "enriched_sessionized.printSchema()"
   ]
  },
  {
   "cell_type": "code",
   "execution_count": 56,
   "metadata": {},
   "outputs": [
    {
     "name": "stdout",
     "output_type": "stream",
     "text": [
      "+--------------------+----------+-------------------+--------------------+-----------+-------------------+--------+-----------+-------+----------+\n",
      "|          user_agent|ip_address|          timestamp|                 url|status_code|response_bytes_size|category|device_type|user_id|session_id|\n",
      "+--------------------+----------+-------------------+--------------------+-----------+-------------------+--------+-----------+-------+----------+\n",
      "|Mozilla/5.0 (Wind...|1.10.66.79|2019-01-24 08:07:35|https://www.nu.nl...|        200|                635|    apps|     tablet|      1|         0|\n",
      "|Mozilla/5.0 (Wind...|1.10.66.79|2019-01-26 08:00:01|https://www.nu.nl...|        200|               1624|    apps|     tablet|      1|         1|\n",
      "|Mozilla/5.0 (Wind...|1.10.66.79|2019-01-27 08:05:24|    http://www.nu.nl|        200|               1174|    null|     tablet|      1|         2|\n",
      "|Mozilla/5.0 (Wind...|1.10.66.79|2019-01-28 08:02:35|    http://www.nu.nl|        200|               2078|    null|     tablet|      1|         3|\n",
      "|Mozilla/5.0 (Wind...|1.10.66.79|2019-01-28 08:03:33|https://www.nu.nl...|        200|               1194|    apps|     tablet|      1|         3|\n",
      "|Mozilla/5.0 (Wind...|1.10.66.79|2019-01-28 08:05:56|    http://www.nu.nl|        200|               1072|    null|     tablet|      1|         3|\n",
      "|Mozilla/5.0 (Wind...|1.10.66.79|2019-01-29 08:00:35|https://www.nu.nl...|        200|               1605|    apps|     tablet|      1|         4|\n",
      "|Mozilla/5.0 (Wind...|1.10.66.79|2019-01-30 08:04:20|https://www.nu.nl...|        200|               2018|    apps|     tablet|      1|         5|\n",
      "|Mozilla/5.0 (Wind...|1.10.66.79|2019-01-30 08:05:44|https://www.nu.nl...|        200|               1337|    apps|     tablet|      1|         5|\n",
      "|Mozilla/5.0 (Wind...|1.10.66.79|2019-02-01 08:01:46|https://www.nu.nl...|        200|                563|    apps|     tablet|      1|         6|\n",
      "|Mozilla/5.0 (Wind...|1.10.66.79|2019-02-01 08:04:37|    http://www.nu.nl|        200|                603|    null|     tablet|      1|         6|\n",
      "|Mozilla/5.0 (Wind...|1.10.66.79|2019-02-02 08:03:09|https://www.nu.nl...|        200|               1643|    apps|     tablet|      1|         7|\n",
      "|Mozilla/5.0 (Wind...|1.10.66.79|2019-02-02 08:08:06|https://www.nu.nl...|        200|               1804|    apps|     tablet|      1|         7|\n",
      "|Mozilla/5.0 (Wind...|1.10.66.79|2019-02-03 08:01:09|https://www.nu.nl...|        200|                500|    apps|     tablet|      1|         8|\n",
      "|Mozilla/5.0 (Wind...|1.10.66.79|2019-02-05 08:04:19|https://www.nu.nl...|        200|               1042|    apps|     tablet|      1|         9|\n",
      "|Mozilla/5.0 (Wind...|1.10.66.79|2019-02-05 08:07:08|https://www.nu.nl...|        200|               1372|    apps|     tablet|      1|         9|\n",
      "|Mozilla/5.0 (Wind...|1.10.66.79|2019-02-07 08:09:53|https://www.nu.nl...|        200|                509|    apps|     tablet|      1|        10|\n",
      "|Mozilla/5.0 (Wind...|1.10.66.79|2019-02-09 08:07:41|https://www.nu.nl...|        200|                657|    apps|     tablet|      1|        11|\n",
      "|Mozilla/5.0 (Wind...|1.10.66.79|2019-02-11 08:03:10|https://www.nu.nl...|        200|               2131|    apps|     tablet|      1|        12|\n",
      "|Mozilla/5.0 (Wind...|1.10.66.79|2019-02-13 08:07:15|    http://www.nu.nl|        200|                767|    null|     tablet|      1|        13|\n",
      "+--------------------+----------+-------------------+--------------------+-----------+-------------------+--------+-----------+-------+----------+\n",
      "only showing top 20 rows\n",
      "\n"
     ]
    }
   ],
   "source": [
    "enriched_sessionized.show()"
   ]
  },
  {
   "cell_type": "code",
   "execution_count": null,
   "metadata": {},
   "outputs": [],
   "source": []
  },
  {
   "cell_type": "code",
   "execution_count": null,
   "metadata": {},
   "outputs": [],
   "source": [
    "    "
   ]
  }
 ],
 "metadata": {
  "kernelspec": {
   "display_name": "Python 3",
   "language": "python",
   "name": "python3"
  },
  "language_info": {
   "codemirror_mode": {
    "name": "ipython",
    "version": 3
   },
   "file_extension": ".py",
   "mimetype": "text/x-python",
   "name": "python",
   "nbconvert_exporter": "python",
   "pygments_lexer": "ipython3",
   "version": "3.7.3"
  },
  "pycharm": {
   "stem_cell": {
    "cell_type": "raw",
    "source": [],
    "metadata": {
     "collapsed": false
    }
   }
  }
 },
 "nbformat": 4,
 "nbformat_minor": 2
}